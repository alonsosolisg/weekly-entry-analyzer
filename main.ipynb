{
 "cells": [
  {
   "cell_type": "markdown",
   "metadata": {},
   "source": [
    "# Weekly Entry Analyzer"
   ]
  },
  {
   "cell_type": "markdown",
   "metadata": {},
   "source": [
    "## Extract, Clean and Expand the Data"
   ]
  },
  {
   "cell_type": "markdown",
   "metadata": {},
   "source": [
    "### Extraction of the weekly entry data from pdf files"
   ]
  },
  {
   "cell_type": "code",
   "execution_count": null,
   "metadata": {},
   "outputs": [],
   "source": [
    "import pdfplumber\n",
    "import os\n",
    "import pandas as pd\n",
    "\n",
    "# Path to the directory containing PDFs\n",
    "pdf_folder = './weekly_entries'\n",
    "\n",
    "# List to hold data\n",
    "data = []\n",
    "\n",
    "# Loop through all PDF files in the directory\n",
    "for filename in os.listdir(pdf_folder):\n",
    "    if filename.endswith('.pdf'):\n",
    "        # Construct full file path\n",
    "        file_path = os.path.join(pdf_folder, filename)\n",
    "        # Extract date from filename\n",
    "        date = filename.split('.')[0]\n",
    "        with pdfplumber.open(file_path) as pdf:\n",
    "            full_text = ''\n",
    "            for page in pdf.pages:\n",
    "                full_text += page.extract_text() or ''  # Extract text, add empty if none found\n",
    "            data.append({'date': date, 'text': full_text})\n",
    "\n",
    "# Create a DataFrame\n",
    "df = pd.DataFrame(data)\n",
    "display(df.head())\n"
   ]
  },
  {
   "cell_type": "markdown",
   "metadata": {},
   "source": [
    "### Creating the sentiment, main topic, main keyword and character count of the weekly entries"
   ]
  },
  {
   "cell_type": "markdown",
   "metadata": {},
   "source": [
    "#### Get the main topic"
   ]
  },
  {
   "cell_type": "code",
   "execution_count": null,
   "metadata": {},
   "outputs": [],
   "source": [
    "import openai\n",
    "\n",
    "def get_main_topic(text):\n",
    "    openai.api_key = \"\" # Your OpenAI API key here\n",
    "    messages = [\n",
    "        {\n",
    "            \"role\": \"system\",\n",
    "            \"content\": \"This is a conversation with an AI.\"\n",
    "        },\n",
    "        {\n",
    "            \"role\": \"user\",\n",
    "            \"content\": f\"What is the main topic of this text: \\\"{text}\\\"?\"\n",
    "        }\n",
    "    ]\n",
    "    try:\n",
    "        response = openai.chat.completions.create(model=\"gpt-3.5-turbo\",\n",
    "        messages=messages,\n",
    "        max_tokens=60)\n",
    "        return response.choices[0].message.content.strip()\n",
    "    except Exception as e:\n",
    "        print(f\"An error occurred: {e}\")\n",
    "        return \"Error retrieving topic\"\n",
    "    \n",
    "# Get the main topics and add them to the DataFrame\n",
    "df['main_topic'] = df['text'].apply(get_main_topic)\n",
    "display(df.head())"
   ]
  },
  {
   "cell_type": "markdown",
   "metadata": {},
   "source": [
    "#### Get the sentiment"
   ]
  },
  {
   "cell_type": "code",
   "execution_count": null,
   "metadata": {},
   "outputs": [],
   "source": [
    "from textblob import TextBlob\n",
    "\n",
    "def analyze_sentiment(text):\n",
    "    return TextBlob(text).sentiment.polarity\n",
    "\n",
    "# Adding sentiment to the DataFrame\n",
    "df['sentiment'] = df['text'].apply(analyze_sentiment)\n",
    "\n",
    "# Display the first few entries to verify\n",
    "display(df.head())"
   ]
  },
  {
   "cell_type": "markdown",
   "metadata": {},
   "source": [
    "#### Get the main keyword"
   ]
  },
  {
   "cell_type": "code",
   "execution_count": null,
   "metadata": {},
   "outputs": [],
   "source": [
    "def get_most_important_keyword(main_topic):\n",
    "    openai.api_key = '' # Your OpenAI API key here\n",
    "    messages = [\n",
    "        {\n",
    "            \"role\": \"system\",\n",
    "            \"content\": \"This is a conversation with an AI.\"\n",
    "        },\n",
    "        {\n",
    "            \"role\": \"user\",\n",
    "            \"content\": f\"Select a keyword that describes the best the following topic (just output the actual keyword): \\\"{main_topic}\\\"\"\n",
    "        }\n",
    "    ]\n",
    "    try:\n",
    "        response = openai.chat.completions.create(model=\"gpt-3.5-turbo\",\n",
    "        messages=messages,\n",
    "        max_tokens=10)\n",
    "        return response.choices[0].message.content.strip()\n",
    "    except Exception as e:\n",
    "        print(f\"An error occurred: {e}\")\n",
    "        return \"Error retrieving topic\"\n",
    "    \n",
    "df['main_keyword'] = df['main_topic'].apply(get_most_important_keyword)\n",
    "display(df.head())\n"
   ]
  },
  {
   "cell_type": "markdown",
   "metadata": {},
   "source": [
    "#### Get the character count"
   ]
  },
  {
   "cell_type": "code",
   "execution_count": null,
   "metadata": {},
   "outputs": [],
   "source": [
    "df['text_length'] = df['text'].str.len()\n",
    "display(df.head())"
   ]
  },
  {
   "cell_type": "markdown",
   "metadata": {},
   "source": [
    "### Format date and sort it from oldest to newest"
   ]
  },
  {
   "cell_type": "code",
   "execution_count": null,
   "metadata": {},
   "outputs": [],
   "source": [
    "df['date'] = pd.to_datetime(df['date'], format='%d-%m-%Y')\n",
    "df = df.sort_values('date')\n",
    "display(df.head())"
   ]
  },
  {
   "cell_type": "markdown",
   "metadata": {},
   "source": [
    "## Calculations on the data"
   ]
  },
  {
   "cell_type": "markdown",
   "metadata": {},
   "source": [
    "### Calculate the main statistical indicators for the sentiment"
   ]
  },
  {
   "cell_type": "code",
   "execution_count": null,
   "metadata": {},
   "outputs": [],
   "source": [
    "import pandas as pd\n",
    "\n",
    "# Calculate the mean of the sentiment variable\n",
    "mean_sentiment = df['sentiment'].mean()\n",
    "\n",
    "# Calculate the median of the sentiment variable\n",
    "median_sentiment = df['sentiment'].median()\n",
    "\n",
    "#Calculate the standard deviation of the sentiment variable\n",
    "std_sentiment = df['sentiment'].std()\n",
    "\n",
    "#min\n",
    "min_sentiment = df['sentiment'].min()\n",
    "\n",
    "#max\n",
    "max_sentiment = df['sentiment'].max()\n",
    "\n",
    "#Calculate the range of the sentiment variable\n",
    "range_sentiment = df['sentiment'].max() - df['sentiment'].min()\n",
    "\n",
    "#Calculate the 25th percentile of the sentiment variable\n",
    "percentile_25 = df['sentiment'].quantile(0.25)\n",
    "\n",
    "#Calculate the 75th percentile of the sentiment variable\n",
    "percentile_75 = df['sentiment'].quantile(0.75)\n",
    "\n",
    "#make it into a table\n",
    "summary = pd.DataFrame({'mean': [mean_sentiment], 'median': [median_sentiment], 'std': [std_sentiment], 'min': [min_sentiment], \"max\": [max_sentiment], 'range': [range_sentiment], '25th percentile': [percentile_25], '75th percentile': [percentile_75]})\n",
    "\n",
    "display(summary)"
   ]
  },
  {
   "cell_type": "markdown",
   "metadata": {},
   "source": [
    "## Visualize the Data"
   ]
  },
  {
   "cell_type": "markdown",
   "metadata": {},
   "source": [
    "### Visualize the change in sentiment over time"
   ]
  },
  {
   "cell_type": "code",
   "execution_count": null,
   "metadata": {},
   "outputs": [],
   "source": [
    "import matplotlib.pyplot as plt\n",
    "\n",
    "# Set the figure size\n",
    "plt.figure(figsize=(12, 6))\n",
    "\n",
    "# Plot the sentiment values over time\n",
    "plt.plot(df['date'], df['sentiment'])\n",
    "\n",
    "# Set the x-axis label\n",
    "plt.xlabel('Date')\n",
    "\n",
    "# Set the y-axis label\n",
    "plt.ylabel('Sentiment')\n",
    "\n",
    "# Set the title\n",
    "plt.title('Change in Sentiment over Time')\n",
    "\n",
    "# Rotate the x-axis labels for better readability\n",
    "plt.xticks(rotation=45)\n",
    "\n",
    "# Display the plot\n",
    "plt.show()"
   ]
  },
  {
   "cell_type": "markdown",
   "metadata": {},
   "source": [
    "### Visualize the average sentiment per main keyword"
   ]
  },
  {
   "cell_type": "code",
   "execution_count": null,
   "metadata": {},
   "outputs": [],
   "source": [
    "import matplotlib.pyplot as plt\n",
    "\n",
    "# Plotting the average sentiment per main keyword\n",
    "plt.figure(figsize=(12, 6))\n",
    "plt.bar(average_sentiment.index, average_sentiment)\n",
    "plt.xlabel('Main Keyword')\n",
    "plt.ylabel('Average Sentiment')\n",
    "plt.title('Average Sentiment per Main Keyword')\n",
    "plt.xticks(rotation=45, ha='right')  # Rotate the x-axis labels\n",
    "plt.tight_layout()  # Adjust the layout to prevent label overlapping\n",
    "\n",
    "# Increase the space between keyword labels\n",
    "plt.xticks(range(len(average_sentiment.index)), average_sentiment.index, fontsize=8)\n",
    "\n",
    "plt.show()"
   ]
  },
  {
   "cell_type": "markdown",
   "metadata": {},
   "source": [
    "### Visualize the keyword frequency"
   ]
  },
  {
   "cell_type": "code",
   "execution_count": null,
   "metadata": {},
   "outputs": [],
   "source": [
    "import matplotlib.pyplot as plt\n",
    "\n",
    "# Get the keyword frequency\n",
    "keyword_frequency = df['main_keyword'].value_counts()\n",
    "\n",
    "# Create a bar plot\n",
    "plt.figure(figsize=(12, 6))\n",
    "plt.bar(keyword_frequency.index, keyword_frequency)\n",
    "plt.xlabel('Keyword')\n",
    "plt.ylabel('Frequency')\n",
    "plt.title('Keyword Frequency')\n",
    "plt.xticks(rotation=45, ha='right')  # Rotate the x-axis labels\n",
    "plt.tight_layout()  # Adjust the layout to prevent label overlapping\n",
    "\n",
    "# Increase the space between keyword labels\n",
    "plt.xticks(range(len(keyword_frequency.index)), keyword_frequency.index, fontsize=8)\n",
    "\n",
    "plt.show()"
   ]
  },
  {
   "cell_type": "markdown",
   "metadata": {},
   "source": [
    "### Visualize the total characters written on keywords"
   ]
  },
  {
   "cell_type": "code",
   "execution_count": null,
   "metadata": {},
   "outputs": [],
   "source": [
    "total_characters = sum(len(keyword) for keyword in keyword_frequency.index)\n",
    "import matplotlib.pyplot as plt\n",
    "\n",
    "# Calculate the total characters for each keyword\n",
    "keyword_lengths = [len(keyword) for keyword in keyword_frequency.index]\n",
    "\n",
    "# Create a bar plot\n",
    "plt.figure(figsize=(12, 6))\n",
    "plt.bar(keyword_frequency.index, keyword_lengths)\n",
    "plt.xlabel('Keyword')\n",
    "plt.ylabel('Total Characters')\n",
    "plt.title('Total Characters Written on Keywords')\n",
    "plt.xticks(rotation=45, ha='right')  # Rotate the x-axis labels\n",
    "plt.tight_layout()  # Adjust the layout to prevent label overlapping\n",
    "\n",
    "# Increase the space between keyword labels\n",
    "plt.xticks(range(len(keyword_frequency.index)), keyword_frequency.index, fontsize=8)\n",
    "\n",
    "plt.show()\n",
    "print(total_characters)"
   ]
  },
  {
   "cell_type": "markdown",
   "metadata": {},
   "source": [
    "### Visualize the correlation between a scaled version of the sentiment and the character count"
   ]
  },
  {
   "cell_type": "code",
   "execution_count": null,
   "metadata": {},
   "outputs": [],
   "source": [
    "import matplotlib.pyplot as plt\n",
    "\n",
    "# Assuming df is your DataFrame and min_sentiment, max_sentiment are defined\n",
    "# Extract the relevant columns from the DataFrame\n",
    "df_plot = df[['date', 'sentiment', 'text_length']]\n",
    "\n",
    "# Calculate the max of text_length\n",
    "max_text_length = df_plot['text_length'].max()\n",
    "\n",
    "# Scale the sentiment to match the scale of text_length\n",
    "df_plot['scaled_sentiment'] = ((df_plot['sentiment'] - min_sentiment) / (max_sentiment - min_sentiment)) * max_text_length\n",
    "\n",
    "# Set the figure size\n",
    "plt.figure(figsize=(12, 6))\n",
    "\n",
    "# Plot the character count and the scaled sentiment\n",
    "plt.plot(df_plot['date'], df_plot['text_length'], label='Characters')\n",
    "plt.plot(df_plot['date'], df_plot['scaled_sentiment'], label='Scaled Sentiment')\n",
    "\n",
    "# Set the labels and title\n",
    "plt.xlabel('Date')\n",
    "plt.ylabel('Value')\n",
    "plt.title('Correlation between Characters and Scaled Sentiment')\n",
    "plt.legend()\n",
    "\n",
    "# Rotate the x-axis labels for better readability\n",
    "plt.xticks(rotation=45)\n",
    "\n",
    "# Show the plot\n",
    "plt.show()\n"
   ]
  },
  {
   "cell_type": "markdown",
   "metadata": {},
   "source": [
    "## Data Storage"
   ]
  },
  {
   "cell_type": "markdown",
   "metadata": {},
   "source": [
    "### Store the data in a csv file"
   ]
  },
  {
   "cell_type": "code",
   "execution_count": null,
   "metadata": {},
   "outputs": [],
   "source": [
    "df.to_csv('entry_analysis_results.csv', index=False)"
   ]
  }
 ],
 "metadata": {
  "kernelspec": {
   "display_name": "Python 3",
   "language": "python",
   "name": "python3"
  },
  "language_info": {
   "codemirror_mode": {
    "name": "ipython",
    "version": 3
   },
   "file_extension": ".py",
   "mimetype": "text/x-python",
   "name": "python",
   "nbconvert_exporter": "python",
   "pygments_lexer": "ipython3",
   "version": "3.10.11"
  }
 },
 "nbformat": 4,
 "nbformat_minor": 2
}
